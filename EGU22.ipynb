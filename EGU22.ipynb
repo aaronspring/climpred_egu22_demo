{
 "cells": [
  {
   "cell_type": "markdown",
   "metadata": {},
   "source": [
    "You can run this notebook in a [live session](https://binder.pangeo.io/v2/gh/pangeo-data/climpred/main?urlpath=lab/tree/docs/source/bias_removal.ipynb) [<img src=\"https://mybinder.org/badge_logo.svg\" alt='binder badge'>](https://binder.pangeo.io/v2/gh/pangeo-data/climpred/main?urlpath=lab/tree/docs/source/bias_removal.ipynb) or view it [on Github](https://github.com/pangeo-data/climpred/blob/main/docs/source/bias_removal.ipynb)."
   ]
  },
  {
   "cell_type": "markdown",
   "metadata": {},
   "source": [
    "#### EGU live demo"
   ]
  },
  {
   "cell_type": "markdown",
   "metadata": {},
   "source": [
    "some intro\n",
    "\n",
    "- multi-model: vectorized with xarray, no loops"
   ]
  },
  {
   "cell_type": "code",
   "execution_count": null,
   "metadata": {},
   "outputs": [],
   "source": [
    "# linting\n",
    "#%load_ext nb_black\n",
    "#%load_ext lab_black"
   ]
  },
  {
   "cell_type": "code",
   "execution_count": null,
   "metadata": {},
   "outputs": [],
   "source": [
    "import climpred\n",
    "import warnings\n",
    "\n",
    "warnings.simplefilter(\"ignore\")\n",
    "import xarray as xr\n",
    "import matplotlib.pyplot as plt\n",
    "\n",
    "v = \"sst\"\n",
    "\n",
    "from climpred import HindcastEnsemble"
   ]
  },
  {
   "cell_type": "code",
   "execution_count": null,
   "metadata": {},
   "outputs": [],
   "source": [
    "initialized = climpred.tutorial.load_dataset(\"NMME_hindcast_Nino34_sst\")\n",
    "obs = climpred.tutorial.load_dataset(\"NMME_OIv2_Nino34_sst\")\n",
    "\n",
    "hindcast = climpred.HindcastEnsemble(initialized).add_observations(obs)\n",
    "hindcast"
   ]
  },
  {
   "cell_type": "code",
   "execution_count": null,
   "metadata": {},
   "outputs": [],
   "source": [
    "hindcast.sel(model=\"GFDL-CM2p5-FLOR-A06\").plot()"
   ]
  },
  {
   "cell_type": "code",
   "execution_count": null,
   "metadata": {},
   "outputs": [],
   "source": [
    "with xr.set_options(display_style=\"text\"):\n",
    "    print(hindcast)"
   ]
  },
  {
   "cell_type": "code",
   "execution_count": null,
   "metadata": {},
   "outputs": [],
   "source": [
    "hindcast"
   ]
  },
  {
   "cell_type": "markdown",
   "metadata": {},
   "source": [
    "## Additive mean bias removal"
   ]
  },
  {
   "cell_type": "markdown",
   "metadata": {},
   "source": [
    "Typically, bias depends on lead-time and therefore should therefore also be removed depending on `lead`."
   ]
  },
  {
   "cell_type": "code",
   "execution_count": null,
   "metadata": {},
   "outputs": [],
   "source": [
    "bias = hindcast.verify(\n",
    "    metric=\"additive_bias\", comparison=\"e2o\", dim=[], alignment=\"same_verifs\"\n",
    ")\n",
    "\n",
    "bias[v].plot(col=\"model\")"
   ]
  },
  {
   "cell_type": "code",
   "execution_count": null,
   "metadata": {},
   "outputs": [],
   "source": [
    "# group bias by seasonality\n",
    "seasonality = climpred.options.OPTIONS[\"seasonality\"]\n",
    "seasonality"
   ]
  },
  {
   "cell_type": "code",
   "execution_count": null,
   "metadata": {},
   "outputs": [],
   "source": [
    "bias.groupby(f\"init.{seasonality}\").mean()[v].plot(col=\"model\")"
   ]
  },
  {
   "cell_type": "markdown",
   "metadata": {},
   "source": [
    "An initial warm bias develops into a cold bias, especially in winter."
   ]
  },
  {
   "cell_type": "markdown",
   "metadata": {},
   "source": [
    "## `train_test_split`\n",
    "\n",
    "{cite:t}`Risbey2021` demonstrate how important a clean separation of a `train` and a `test` period is for bias reduction. \n",
    "\n",
    "Implemented `train_test_split`s in `climpred`:\n",
    "\n",
    "- `unfair`: completely overlapping `train` and `test` (climpred default)\n",
    "- `unfair-cv`: overlapping `train` and `test` except for current `init`, which is [left out](https://en.wikipedia.org/wiki/Cross-validation_(statistics)#Leave-one-out_cross-validation) (set `cv=\"LOO\"`)\n",
    "- `fair`: no overlap between `train` and `test` (recommended)"
   ]
  },
  {
   "cell_type": "code",
   "execution_count": null,
   "metadata": {},
   "outputs": [],
   "source": [
    "# fair calculates bias for train_time/train_init and drops these indices from hindcast\n",
    "hindcast.remove_bias(\n",
    "    how=\"additive_mean\",\n",
    "    alignment=metric_kwargs[\"alignment\"],\n",
    "    train_test_split=\"fair\",\n",
    "    train_time=slice(\"1982\", \"1998\"),\n",
    ").sel(model=\"GFDL-CM2p5-FLOR-A06\").plot()"
   ]
  },
  {
   "cell_type": "code",
   "execution_count": null,
   "metadata": {},
   "outputs": [],
   "source": [
    "import seaborn as sns\n",
    "\n",
    "sns.set_palette(\"husl\", skill_train_test_split.model.size)"
   ]
  },
  {
   "cell_type": "code",
   "execution_count": null,
   "metadata": {},
   "outputs": [],
   "source": [
    "metric_kwargs = dict(metric=\"rmse\", alignment=\"same_verifs\", dim=\"init\", comparison=\"e2o\", skipna=True)"
   ]
  },
  {
   "cell_type": "code",
   "execution_count": null,
   "metadata": {},
   "outputs": [],
   "source": [
    "train_test_split = [\"unfair\", \"unfair-cv\", \"fair\"] # different train_test_split methods to compare\n",
    "skill_train_test_split = [hindcast.sel(time=slice(\"1982\", \"1998\")).verify(**metric_kwargs)]\n",
    "skill_train_test_split.append(\n",
    "    hindcast.sel(time=slice(\"1982\", \"1998\"))\n",
    "    .remove_bias(\n",
    "        how=\"additive_mean\",\n",
    "        alignment=metric_kwargs[\"alignment\"],\n",
    "        train_test_split=\"unfair\",\n",
    "    )\n",
    "    .verify(**metric_kwargs)\n",
    ")\n",
    "skill_train_test_split.append(\n",
    "    hindcast.sel(time=slice(\"1982\", \"1998\"))\n",
    "    .remove_bias(\n",
    "        how=\"additive_mean\",\n",
    "        alignment=metric_kwargs[\"alignment\"],\n",
    "        train_test_split=\"unfair-cv\",\n",
    "        cv=\"LOO\", # leave-one-out\n",
    "    )\n",
    "    .verify(**metric_kwargs)\n",
    ")\n",
    "\n",
    "skill_train_test_split.append(\n",
    "    hindcast.remove_bias(\n",
    "        how=\"additive_mean\",\n",
    "        alignment=metric_kwargs[\"alignment\"],\n",
    "        train_test_split=\"fair\",\n",
    "        train_time=slice(\"1982\", \"1998\"),\n",
    "    ).verify(**metric_kwargs)\n",
    ")\n",
    "\n",
    "skill_train_test_split = xr.concat(skill_train_test_split, \"train_test_split\")[v].assign_coords(train_test_split=[\"None\"] + train_test_split)"
   ]
  },
  {
   "cell_type": "code",
   "execution_count": null,
   "metadata": {},
   "outputs": [],
   "source": [
    "skill_train_test_split.plot(hue=\"model\", col=\"train_test_split\", x=\"lead\")\n",
    "plt.ylim([0, 1.4])\n",
    "plt.suptitle(f\"NMME Nino3.4 SST {metric_kwargs['metric'].upper()} for different bias correction train_test splits\", y=1.0)\n",
    "\n",
    "plt.savefig(\"NMME_nino34_bias_correction_train_test_splits.png\", bbox_inches=\"tight\", dpi=300)"
   ]
  },
  {
   "cell_type": "markdown",
   "metadata": {},
   "source": [
    "## Comparison of methods `how`"
   ]
  },
  {
   "cell_type": "code",
   "execution_count": null,
   "metadata": {},
   "outputs": [],
   "source": [
    "methods = [\n",
    "    \"additive_mean\",\n",
    "    # \"multiplicative_std\",\n",
    "    \"DetrendedQuantileMapping\",\n",
    "    \"EmpiricalQuantileMapping\",\n",
    "    # \"PrincipalComponents\",\n",
    "    # \"LOCI\",\n",
    "    \"QuantileDeltaMapping\",\n",
    "    \"Scaling\",\n",
    "    \"modified_quantile\",\n",
    "    \"basic_quantile\",\n",
    "    # \"gamma_mapping\",\n",
    "    # \"normal_mapping\",\n",
    "]"
   ]
  },
  {
   "cell_type": "code",
   "execution_count": null,
   "metadata": {},
   "outputs": [],
   "source": [
    "import warnings\n",
    "\n",
    "warnings.simplefilter(\"ignore\")"
   ]
  },
  {
   "cell_type": "code",
   "execution_count": null,
   "metadata": {},
   "outputs": [],
   "source": [
    "# xclim.sdba requires pint units\n",
    "hindcast._datasets[\"initialized\"][v].attrs[\"units\"] = \"C\"\n",
    "hindcast._datasets[\"observations\"][v].attrs[\"units\"] = \"C\""
   ]
  },
  {
   "cell_type": "code",
   "execution_count": null,
   "metadata": {},
   "outputs": [],
   "source": [
    "metric_kwargs[\"alignment\"] = \"same_inits\""
   ]
  },
  {
   "cell_type": "code",
   "execution_count": null,
   "metadata": {},
   "outputs": [],
   "source": [
    "metric_kwargs[\"reference\"] = [\"climatology\", \"persistence\"]"
   ]
  },
  {
   "cell_type": "code",
   "execution_count": null,
   "metadata": {},
   "outputs": [],
   "source": [
    "skill_bias_reduction = [hindcast.sel(init=slice(\"1999\", None)).verify(**metric_kwargs)]\n",
    "for method in methods:\n",
    "    skill_bias_reduction.append(\n",
    "        hindcast.remove_bias(\n",
    "            how=method,\n",
    "            alignment=metric_kwargs[\"alignment\"],\n",
    "            train_test_split=\"fair\",\n",
    "            train_init=slice(\"1982\", \"1998\"),\n",
    "        ).verify(**metric_kwargs)\n",
    "    )\n",
    "skill_bias_reduction = xr.concat(skill_bias_reduction, \"bias_correction\")[\n",
    "    v\n",
    "].assign_coords(bias_correction=[\"None\"] + methods)"
   ]
  },
  {
   "cell_type": "code",
   "execution_count": null,
   "metadata": {},
   "outputs": [],
   "source": [
    "# reference forecasts are unaffected by bias_correction\n",
    "refs = skill_bias_reduction.drop_sel(skill=\"initialized\").isel(\n",
    "    bias_correction=0, model=0, drop=True\n",
    ")\n",
    "refs.plot(hue=\"skill\")"
   ]
  },
  {
   "cell_type": "code",
   "execution_count": null,
   "metadata": {},
   "outputs": [],
   "source": [
    "fg = skill_bias_reduction.sel(skill=\"initialized\").plot(\n",
    "    hue=\"model\", col=\"bias_correction\", x=\"lead\", col_wrap=4\n",
    ")\n",
    "plt.ylim([0, 1.4])\n",
    "plt.suptitle(\n",
    "    f\"NMME Nino3.4 SST {metric_kwargs['metric'].upper()} for different bias reduction methods\",\n",
    "    y=1.0,\n",
    ")\n",
    "for ax in fg.axes.flatten():\n",
    "    ax.plot(refs.sel(skill=\"persistence\"), color=\"gray\", ls=\":\")\n",
    "    ax.plot(refs.sel(skill=\"climatology\"), color=\"gray\", ls=\"--\")\n",
    "plt.savefig(\"NMME_nino34_bias_correction.png\", bbox_inches=\"tight\", dpi=300)"
   ]
  },
  {
   "cell_type": "markdown",
   "metadata": {},
   "source": [
    "#### How many months better than reference forecasts?"
   ]
  },
  {
   "cell_type": "code",
   "execution_count": null,
   "metadata": {},
   "outputs": [],
   "source": [
    "sns.set_palette(\"husl\", skill_bias_reduction.skill.size)\n",
    "skill_bias_reduction.sel(model=\"GFDL-CM2p5-FLOR-A06\").plot(\n",
    "    col=\"bias_correction\", hue=\"skill\", col_wrap=4\n",
    ")"
   ]
  },
  {
   "cell_type": "code",
   "execution_count": null,
   "metadata": {},
   "outputs": [],
   "source": [
    "skill_bias_reduction.where(skill_bias_reduction.argmin(\"skill\") == 0).notnull().sum(\n",
    "    \"lead\"\n",
    ").sel(skill=\"initialized\", drop=True).astype(int).to_dataframe().unstack(0)"
   ]
  },
  {
   "cell_type": "code",
   "execution_count": null,
   "metadata": {},
   "outputs": [],
   "source": []
  }
 ],
 "metadata": {
  "kernelspec": {
   "display_name": "Python [conda env:climpred-dev] *",
   "language": "python",
   "name": "conda-env-climpred-dev-py"
  },
  "language_info": {
   "codemirror_mode": {
    "name": "ipython",
    "version": 3
   },
   "file_extension": ".py",
   "mimetype": "text/x-python",
   "name": "python",
   "nbconvert_exporter": "python",
   "pygments_lexer": "ipython3",
   "version": "3.9.10"
  },
  "toc-autonumbering": true
 },
 "nbformat": 4,
 "nbformat_minor": 4
}
